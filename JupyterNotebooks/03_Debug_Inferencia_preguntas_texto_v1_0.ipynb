{
 "cells": [
  {
   "cell_type": "code",
   "execution_count": null,
   "metadata": {
    "colab": {
     "base_uri": "https://localhost:8080/"
    },
    "id": "irftjPJfrpUj",
    "outputId": "1e858e18-aa75-4ac2-8377-220730cc887f"
   },
   "outputs": [
    {
     "name": "stdout",
     "output_type": "stream",
     "text": [
      "Mounted at /content/drive/\n"
     ]
    }
   ],
   "source": [
    "from google.colab import drive\n",
    "drive.flush_and_unmount()\n",
    "drive.mount('/content/drive/')"
   ]
  },
  {
   "cell_type": "code",
   "execution_count": null,
   "metadata": {
    "colab": {
     "base_uri": "https://localhost:8080/"
    },
    "id": "RsuYvuUgrw5H",
    "outputId": "411f43cd-3f0d-4a87-a753-5bb5c73d94eb"
   },
   "outputs": [
    {
     "name": "stdout",
     "output_type": "stream",
     "text": [
      "Requirement already satisfied: transformers in /usr/local/lib/python3.11/dist-packages (4.48.3)\n",
      "Requirement already satisfied: filelock in /usr/local/lib/python3.11/dist-packages (from transformers) (3.17.0)\n",
      "Requirement already satisfied: huggingface-hub<1.0,>=0.24.0 in /usr/local/lib/python3.11/dist-packages (from transformers) (0.28.1)\n",
      "Requirement already satisfied: numpy>=1.17 in /usr/local/lib/python3.11/dist-packages (from transformers) (1.26.4)\n",
      "Requirement already satisfied: packaging>=20.0 in /usr/local/lib/python3.11/dist-packages (from transformers) (24.2)\n",
      "Requirement already satisfied: pyyaml>=5.1 in /usr/local/lib/python3.11/dist-packages (from transformers) (6.0.2)\n",
      "Requirement already satisfied: regex!=2019.12.17 in /usr/local/lib/python3.11/dist-packages (from transformers) (2024.11.6)\n",
      "Requirement already satisfied: requests in /usr/local/lib/python3.11/dist-packages (from transformers) (2.32.3)\n",
      "Requirement already satisfied: tokenizers<0.22,>=0.21 in /usr/local/lib/python3.11/dist-packages (from transformers) (0.21.0)\n",
      "Requirement already satisfied: safetensors>=0.4.1 in /usr/local/lib/python3.11/dist-packages (from transformers) (0.5.2)\n",
      "Requirement already satisfied: tqdm>=4.27 in /usr/local/lib/python3.11/dist-packages (from transformers) (4.67.1)\n",
      "Requirement already satisfied: fsspec>=2023.5.0 in /usr/local/lib/python3.11/dist-packages (from huggingface-hub<1.0,>=0.24.0->transformers) (2024.10.0)\n",
      "Requirement already satisfied: typing-extensions>=3.7.4.3 in /usr/local/lib/python3.11/dist-packages (from huggingface-hub<1.0,>=0.24.0->transformers) (4.12.2)\n",
      "Requirement already satisfied: charset-normalizer<4,>=2 in /usr/local/lib/python3.11/dist-packages (from requests->transformers) (3.4.1)\n",
      "Requirement already satisfied: idna<4,>=2.5 in /usr/local/lib/python3.11/dist-packages (from requests->transformers) (3.10)\n",
      "Requirement already satisfied: urllib3<3,>=1.21.1 in /usr/local/lib/python3.11/dist-packages (from requests->transformers) (2.3.0)\n",
      "Requirement already satisfied: certifi>=2017.4.17 in /usr/local/lib/python3.11/dist-packages (from requests->transformers) (2025.1.31)\n"
     ]
    }
   ],
   "source": [
    "!pip install transformers\n",
    "#from transformers import T5Tokenizer, T5ForConditionalGeneration\n",
    "from transformers import MT5ForConditionalGeneration, MT5Tokenizer,AutoTokenizer\n",
    "from transformers import TrainingArguments, Trainer\n",
    "import pandas as pd\n",
    "import json\n",
    "import torch\n",
    "import numpy as np"
   ]
  },
  {
   "cell_type": "markdown",
   "metadata": {
    "id": "nhYWZXrjVWNy"
   },
   "source": [
    "# Carga de base de conocimiento\n"
   ]
  },
  {
   "cell_type": "code",
   "execution_count": null,
   "metadata": {
    "colab": {
     "base_uri": "https://localhost:8080/"
    },
    "id": "VOQLeH0atO8y",
    "outputId": "97bd7389-c3de-4146-badf-575a2cbe01b4"
   },
   "outputs": [
    {
     "name": "stdout",
     "output_type": "stream",
     "text": [
      "    Clase                                 Etiqueta  \\\n",
      "0       0                     IMPORTACION_CONCEPTO   \n",
      "1       1                  IMPORTACION_DECLARACION   \n",
      "2       2          PLAZO_PRESENTACION_303_GENERICO   \n",
      "3       3            REGIMEN_ESPECIAL_SIMPLIFICADO   \n",
      "4       4    REGIMEN_ESPECIAL_RECARGO_EQUIVALENCIA   \n",
      "5       5        APLICA_RE_RECARGO_EQUIVALENCIA_SI   \n",
      "6       6        APLICA_RE_RECARGO_EQUIVALENCIA_NO   \n",
      "7       7                      LISTADO_MODELOS_IVA   \n",
      "8       8  DEDUCCION_MATERIAL_PROFESIONAL_PERSONAL   \n",
      "9       9                      DEDUCCION_VEHICULOS   \n",
      "10     10                      IVA_COMPRA_VIVIENDA   \n",
      "11     11            OPERACIONES_INTRACOMUNITARIAS   \n",
      "\n",
      "                                                                                                                                                                                                                                                                                                                                                                                               Contexto  \n",
      "0                                                                                                                                                                                                                                                                                                 La importación es la entrada de mercancías procedentes de terceros países dentro de la Unión Europea.  \n",
      "1                                                                                                                                                                                                                                                                                                                                   La cuota de importación se declara en la casilla 77 del modelo 303.  \n",
      "2   El plazo de presentación del modelo 303 depende del volumen de operaciones de la empresa. Generalmente, un autónomo debe presentarlo trimestralmente el día 20 del primer mes del trimestre siguiente al trimestre de liquidación, mientras que una empresa que facture más de 6 millones de euros deberá presentarlo mensualmente el último día hábil del mes siguiente al periodo de liquidación.  \n",
      "3                                                                                                               En el régimen simplificado de IVA  el IVA se liquida según un mecanismo de tributación por módulos, que depende del epígrafe IAE de la actividad profesional, del número de trabajadores, los metros del local, los gastos de energía y las horas de trabajo del titular de la empresa.  \n",
      "4                                                                                                                                                                           El recargo de equivalencia es un régimen especial de IVA en el que un comerciante minorista debe soportar un importe de IVA adicional a cambio de tener la ventaja de no tener que presentar el modelo 303 trimestralmente.  \n",
      "5                                                                                                                             Sí. Este tipo de negocios pueden acogerse al régimen especial del recargo de equivalencia. Para hacer esto es necesario darse de alta en dicho régimen marcando la casilla 514 del apartado de régimenes aplicables del modelo 037 y darse de baja en el régimen general.  \n",
      "6                                                                                                                                                                                                                                                                                                          No. Este tipo de negocios no pueden acogerse al régimen especial de recargo de equivalencia.  \n",
      "7                                                                   En primer lugar se deberá presentar la declaración del alta en el Censo de Empresarios, Profesionales y Retenedores mediante el modelo 036. Posteriormente se deberá presentar la liquidación del IVA mediante el modelo 303, trimestral o mensualmente según el caso, y al finalizar el ejercicio, el modelo 390 de resumén anual.  \n",
      "8                                                                                                                                                                                                                                        Las cuotas soportadas por la adquisición de este material no pueden deducirse si se utilizan simúltaneamente en una actividad profesional y para uso personal.  \n",
      "9                                                                                                                                                                                                                                                   Es posible deducir la cuota de IVA soportado en al menos el 50 por 100, e incluso más si se puede demostrar mayor grado de afectación del vehículo.  \n",
      "10                                                                                                                                                                                              Solamente la compra de vivienda nueva, o de primera entrega, debe tributar el IVA. Su tipo impositivo es del 10 por ciento sobre el valor de compra, o 4 por ciente en viviendas de protección oficial.  \n",
      "11                                                                                                                          Esto es una operación intracomunitaria, que  deberá informarse en el modelo 349 y dicha información deberá cuadrar con las cuotas informadas en el modelo 303. También es necesario marcar la casilla 583 del modelo 036 para darse de alta como operador intracomunitario.  \n"
     ]
    }
   ],
   "source": [
    "ruta_base_conocimiento = \"/content/drive/MyDrive/TFM_Pruebas_Investigación/Datos/Generador_Respuesta/baseConocimiento.csv\"\n",
    "df_etiquetas = pd.read_csv(ruta_base_conocimiento,encoding = 'utf-8', delimiter = ';', index_col=False)\n",
    "pd.set_option(\"display.max_colwidth\", None)  #Esto es para no truncar la columna de respuesta\n",
    "print(df_etiquetas)"
   ]
  },
  {
   "cell_type": "markdown",
   "metadata": {
    "id": "BgbnKXOJVtW6"
   },
   "source": [
    "# Parte 1) Clasificar la pregunta"
   ]
  },
  {
   "cell_type": "code",
   "execution_count": null,
   "metadata": {
    "colab": {
     "base_uri": "https://localhost:8080/"
    },
    "id": "g8nlwk35tnuD",
    "outputId": "8c9b0bc2-1257-4ee3-f01b-8a070c992182"
   },
   "outputs": [
    {
     "data": {
      "text/plain": [
       "BertForSequenceClassification(\n",
       "  (bert): BertModel(\n",
       "    (embeddings): BertEmbeddings(\n",
       "      (word_embeddings): Embedding(31002, 768, padding_idx=1)\n",
       "      (position_embeddings): Embedding(512, 768)\n",
       "      (token_type_embeddings): Embedding(2, 768)\n",
       "      (LayerNorm): LayerNorm((768,), eps=1e-12, elementwise_affine=True)\n",
       "      (dropout): Dropout(p=0.1, inplace=False)\n",
       "    )\n",
       "    (encoder): BertEncoder(\n",
       "      (layer): ModuleList(\n",
       "        (0-11): 12 x BertLayer(\n",
       "          (attention): BertAttention(\n",
       "            (self): BertSdpaSelfAttention(\n",
       "              (query): Linear(in_features=768, out_features=768, bias=True)\n",
       "              (key): Linear(in_features=768, out_features=768, bias=True)\n",
       "              (value): Linear(in_features=768, out_features=768, bias=True)\n",
       "              (dropout): Dropout(p=0.1, inplace=False)\n",
       "            )\n",
       "            (output): BertSelfOutput(\n",
       "              (dense): Linear(in_features=768, out_features=768, bias=True)\n",
       "              (LayerNorm): LayerNorm((768,), eps=1e-12, elementwise_affine=True)\n",
       "              (dropout): Dropout(p=0.1, inplace=False)\n",
       "            )\n",
       "          )\n",
       "          (intermediate): BertIntermediate(\n",
       "            (dense): Linear(in_features=768, out_features=3072, bias=True)\n",
       "            (intermediate_act_fn): GELUActivation()\n",
       "          )\n",
       "          (output): BertOutput(\n",
       "            (dense): Linear(in_features=3072, out_features=768, bias=True)\n",
       "            (LayerNorm): LayerNorm((768,), eps=1e-12, elementwise_affine=True)\n",
       "            (dropout): Dropout(p=0.1, inplace=False)\n",
       "          )\n",
       "        )\n",
       "      )\n",
       "    )\n",
       "    (pooler): BertPooler(\n",
       "      (dense): Linear(in_features=768, out_features=768, bias=True)\n",
       "      (activation): Tanh()\n",
       "    )\n",
       "  )\n",
       "  (dropout): Dropout(p=0.1, inplace=False)\n",
       "  (classifier): Linear(in_features=768, out_features=12, bias=True)\n",
       ")"
      ]
     },
     "execution_count": 8,
     "metadata": {},
     "output_type": "execute_result"
    }
   ],
   "source": [
    "from transformers import BertTokenizer, BertForSequenceClassification\n",
    "\n",
    "# Cargar el modelo y el tokenizer\n",
    "ruta_modelo_clasificador = \"/content/drive/MyDrive/TFM_Pruebas_Investigación/01-clasificador_pregunta_pytorch\"\n",
    "model_clasificador = BertForSequenceClassification.from_pretrained(ruta_modelo_clasificador)\n",
    "tokenizer_clasificador = BertTokenizer.from_pretrained(ruta_modelo_clasificador)\n",
    "\n",
    "# Configurar el modelo para inferencia\n",
    "model_clasificador.eval()"
   ]
  },
  {
   "cell_type": "code",
   "execution_count": null,
   "metadata": {
    "id": "6C59PBI6tiZb"
   },
   "outputs": [],
   "source": [
    "import torch.nn.functional as F  # Para usar softmax\n",
    "\n",
    "def clasificador_pregunta(input_sentence, umbral_confianza=0.25):\n",
    "    \"\"\"\n",
    "    Clasifica una pregunta y devuelve la clase predicha.\n",
    "    Si la confianza no está dentro del umbral, devuelve \"clase no reconocida\".\n",
    "\n",
    "    :param input_sentence: Frase de entrada a clasificar\n",
    "    :param umbral_confianza: Valor mínimo de confianza para aceptar la clasificación\n",
    "    :return: Clase predicha o \"clase no reconocida\"\n",
    "    \"\"\"\n",
    "    # Tokenizar el texto\n",
    "    inputs_class = tokenizer_clasificador(\n",
    "        input_sentence,\n",
    "        return_tensors=\"pt\",  # Formato PyTorch\n",
    "        padding=\"max_length\",\n",
    "        truncation=False,\n",
    "        max_length=512\n",
    "    )\n",
    "    #print(inputs_class)\n",
    "\n",
    "    # Mover los tensores al dispositivo adecuado\n",
    "    device = torch.device(\"cuda\") if torch.cuda.is_available() else torch.device(\"cpu\")\n",
    "    model_clasificador.to(device)\n",
    "    inputs_class = {key: val.to(device) for key, val in inputs_class.items()}\n",
    "\n",
    "    # Inferencia\n",
    "    with torch.no_grad():\n",
    "        outputs = model_clasificador(**inputs_class)\n",
    "        logits = outputs.logits\n",
    "        probabilidades = F.softmax(logits, dim=-1)  # Obtener probabilidades\n",
    "\n",
    "        # Imprimir para depuración\n",
    "        #print(f\"Logits: {logits}\")\n",
    "        #print(f\"Probabilidades: {probabilidades}\")\n",
    "\n",
    "        confianza_maxima, inferencia_clase = torch.max(probabilidades, dim=-1)  # Confianza y clase predicha\n",
    "\n",
    "    # Verificar si la confianza está dentro del umbral\n",
    "    if confianza_maxima.item() < umbral_confianza:\n",
    "        #print(f\"Confianza baja ({confianza_maxima.item():.2f}), devolviendo respuesta genérica.\")\n",
    "        return \"clase no reconocida\"\n",
    "    else:\n",
    "        #print(f\"Predicted class: {inferencia_clase.item()}, Confianza: {confianza_maxima.item():.2f}\")\n",
    "        return inferencia_clase.item()"
   ]
  },
  {
   "cell_type": "markdown",
   "metadata": {
    "id": "psLyMVlfWBBy"
   },
   "source": [
    "# Parte 2) Generar el texto"
   ]
  },
  {
   "cell_type": "code",
   "execution_count": null,
   "metadata": {
    "id": "ZZi5UJvyuAIc"
   },
   "outputs": [],
   "source": [
    "ruta_modelo_generativo = \"/content/drive/MyDrive/TFM_Pruebas_Investigación/02-FineTunning_mtT5/02-GeneradorRespuesta-mt5\"\n",
    "\n",
    "\n",
    "model_generativo = MT5ForConditionalGeneration.from_pretrained(ruta_modelo_generativo)\n",
    "tokenizer_generativo = AutoTokenizer.from_pretrained(ruta_modelo_generativo, use_fast=False)\n",
    "\n",
    "def generate_answer(context, question):\n",
    "    input_text = f\"contexto: {context} pregunta: {question}\"\n",
    "    inputs = tokenizer_generativo(input_text, return_tensors=\"pt\", max_length=512, truncation=True)\n",
    "\n",
    "    for key in inputs:\n",
    "        inputs[key] = inputs[key].to(model_generativo.device)\n",
    "\n",
    "    outputs = model_generativo.generate(**inputs, max_length=256, num_beams=5, no_repeat_ngram_size=2, early_stopping=True)\n",
    "    print(outputs)\n",
    "    return tokenizer_generativo.decode(outputs[0], skip_special_tokens=True)"
   ]
  },
  {
   "cell_type": "code",
   "execution_count": null,
   "metadata": {
    "colab": {
     "base_uri": "https://localhost:8080/"
    },
    "id": "l4pJzo0MsVSN",
    "outputId": "fc306df1-0d44-44a7-ac77-3d6723d17604"
   },
   "outputs": [
    {
     "name": "stdout",
     "output_type": "stream",
     "text": [
      "Logits: tensor([[ 2.4035,  2.1117, -0.1621, -0.5761, -0.4757, -0.5560, -0.8658, -0.5995,\n",
      "         -0.4657, -0.7650, -0.3686, -0.3308]], device='cuda:0')\n",
      "Probabilidades: tensor([[0.4354, 0.3252, 0.0335, 0.0221, 0.0245, 0.0226, 0.0166, 0.0216, 0.0247,\n",
      "         0.0183, 0.0272, 0.0283]], device='cuda:0')\n",
      "   Clase              Etiqueta  \\\n",
      "0      0  IMPORTACION_CONCEPTO   \n",
      "\n",
      "                                                                                                Contexto  \n",
      "0  La importación es la entrada de mercancías procedentes de terceros países dentro de la Unión Europea.  \n"
     ]
    }
   ],
   "source": [
    "# Formatear la pregunta y el contexto en español\n",
    "pregunta = \"como se declara una importacion?\"\n",
    "prediccion = clasificador_pregunta(pregunta)\n",
    "dato = df_etiquetas[df_etiquetas[\"Clase\"] == prediccion]\n",
    "pd.set_option(\"display.max_colwidth\", None)  #Esto es para no truncar la columna de respuesta\n",
    "#contexto =  dato[\"contexto\"].to_string(index=False)\n",
    "#print(generar_answer(contexto, pregunta))\n",
    "print(dato)"
   ]
  },
  {
   "cell_type": "code",
   "execution_count": null,
   "metadata": {
    "colab": {
     "base_uri": "https://localhost:8080/"
    },
    "id": "iIbmkxo7JT1J",
    "outputId": "d70351eb-a049-4a68-e95e-de4821e3af1e"
   },
   "outputs": [
    {
     "name": "stdout",
     "output_type": "stream",
     "text": [
      "Logits: tensor([[ 2.4035,  2.1117, -0.1621, -0.5761, -0.4757, -0.5560, -0.8658, -0.5995,\n",
      "         -0.4657, -0.7650, -0.3686, -0.3308]], device='cuda:0')\n",
      "Probabilidades: tensor([[0.4354, 0.3252, 0.0335, 0.0221, 0.0245, 0.0226, 0.0166, 0.0216, 0.0247,\n",
      "         0.0183, 0.0272, 0.0283]], device='cuda:0')\n"
     ]
    },
    {
     "data": {
      "text/plain": [
       "0"
      ]
     },
     "execution_count": 12,
     "metadata": {},
     "output_type": "execute_result"
    }
   ],
   "source": [
    "clasificador_pregunta(pregunta)"
   ]
  },
  {
   "cell_type": "code",
   "execution_count": null,
   "metadata": {
    "id": "neTYKCI3sYHR"
   },
   "outputs": [],
   "source": [
    "# artículo interesante: https://huggingface.co/blog/how-to-generate\n",
    "def generar_respuesta(pregunta):\n",
    "    \"\"\"\n",
    "    Generación de la respuesta a una pregunta.\n",
    "\n",
    "    :param pregunta: Pregunta introducida por el usuario.\n",
    "    :return: Respuesta (si la pregunta está correctamente clasificada)\n",
    "             o mensaje de error (si la pregunta no está correctamente clasificada).\n",
    "    \"\"\"\n",
    "    ruta_modelo_generativo = \"/content/drive/MyDrive/TFM_Pruebas_Investigación/02-FineTunning_mtT5/02-GeneradorRespuesta-mt5\"\n",
    "    tokenizer_generativo = AutoTokenizer.from_pretrained(ruta_modelo_generativo, use_fast=False)\n",
    "    model_generativo = MT5ForConditionalGeneration.from_pretrained(ruta_modelo_generativo)\n",
    "    # Importar datos desde base de conocimiento\n",
    "    pd.set_option(\"display.max_colwidth\", None)  #Esto es para no truncar la columna de respuesta\n",
    "    df_etiquetas = pd.read_csv(ruta_base_conocimiento,encoding = 'utf-8', delimiter = ';', index_col=False)\n",
    "    if clasificador_pregunta(pregunta) != \"clase no reconocida\":\n",
    "      dato = df_etiquetas[df_etiquetas[\"Clase\"] == clasificador_pregunta(pregunta)]\n",
    "      contexto = dato[\"Contexto\"].to_string(index=False)\n",
    "      # Texto de entrada\n",
    "      \"\"\"\n",
    "      Contexto: procede de la base de conocimiento\n",
    "      pregunta: es el input del usuario\n",
    "      \"\"\"\n",
    "      input_text = f\"contexto: {contexto} pregunta: {pregunta}\"\n",
    "      inputs = tokenizer_generativo(input_text, return_tensors=\"pt\", max_length=512, truncation=True)\n",
    "\n",
    "      # Mover inputs a la GPU si estuviese disponible\n",
    "      for key in inputs:\n",
    "        inputs[key] = inputs[key].to(model_generativo.device)\n",
    "\n",
    "      #outputs = model_generativo.generate(**inputs, max_length=256, num_beams=2, no_repeat_ngram_size=2, early_stopping=False,temperature=0.8,)\n",
    "      outputs = model_generativo.generate(**inputs, max_length=256,\n",
    "                                          num_beams=10,\n",
    "                                          num_return_sequences=6,\n",
    "                                          no_repeat_ngram_size=3,\n",
    "                                          early_stopping=True,\n",
    "                                          temperature=0.8,\n",
    "                                          top_p=0.95,\n",
    "                                          repetition_penalty=1.2,\n",
    "                                          do_sample=True\n",
    "                                          )\n",
    "      print(f\"longitud input:{inputs}\")\n",
    "      print(f\"longitud codec:{len(outputs[0])}\")\n",
    "      #print(f\"salidas codec:{outputs}\")\n",
    "      for z, outputs in enumerate(outputs):\n",
    "          print(\"{}: {}\".format(z, tokenizer_generativo.decode(outputs, skip_special_tokens=True)))\n",
    "      return tokenizer_generativo.decode((outputs[0]), skip_special_tokens=True)\n",
    "    else:\n",
    "      return \"No comprendo la pregunta. Por favor ¿Puede volver a repetirla?\""
   ]
  },
  {
   "cell_type": "code",
   "execution_count": null,
   "metadata": {
    "colab": {
     "base_uri": "https://localhost:8080/",
     "height": 463
    },
    "id": "yxvr64IP8POq",
    "outputId": "a47012f0-6d78-44c4-e173-708adf911110"
   },
   "outputs": [
    {
     "name": "stdout",
     "output_type": "stream",
     "text": [
      "longitud input:{'input_ids': tensor([[ 19730,    268,    267,    789,  27843,    268,    269,    259,  64526,\n",
      "            426,  13734,  75744,  57367,    426,    259,  96038,    269,    259,\n",
      "         122929,    269,    283,   7867,    260,   4724,   1559,    261,    335,\n",
      "          25552,  95925,   8196,  32985,    878,  53121,  11550,    362,   6869,\n",
      "            628,    426,   3525,   4375,    426,  53121,    265,  20497,    440,\n",
      "          53121,    265,    269,  22041,   1434,    261,    658,  18010,    319,\n",
      "            573,   7867,    319,    259, 179072,   1280,    269,    570,    658,\n",
      "          33747,    269,  13666,    269,  67606,  32985,    878,   9665,  75339,\n",
      "            362,    259,   5532,    268,   6869,  10368,   6071,    426,   4375,\n",
      "          20497,    440,    259,  31819,    269,  22041,   1434,    260,  22056,\n",
      "            267,    651,   1963,   2318,    319,  32985,    362,  13734,  75744,\n",
      "            291,      1]]), 'attention_mask': tensor([[1, 1, 1, 1, 1, 1, 1, 1, 1, 1, 1, 1, 1, 1, 1, 1, 1, 1, 1, 1, 1, 1, 1, 1,\n",
      "         1, 1, 1, 1, 1, 1, 1, 1, 1, 1, 1, 1, 1, 1, 1, 1, 1, 1, 1, 1, 1, 1, 1, 1,\n",
      "         1, 1, 1, 1, 1, 1, 1, 1, 1, 1, 1, 1, 1, 1, 1, 1, 1, 1, 1, 1, 1, 1, 1, 1,\n",
      "         1, 1, 1, 1, 1, 1, 1, 1, 1, 1, 1, 1, 1, 1, 1, 1, 1, 1, 1, 1, 1, 1, 1, 1,\n",
      "         1, 1, 1, 1, 1]])}\n",
      "longitud codec:74\n",
      "0: Las empresas con una facturación superior a 6 millones de euros deben presentar la declaración mensualmente, el último día hábil del mes siguiente al periodo de liquidación, mientras que los autónomos la presentan de forma trimestral, hasta el día 20 del mes posterior al trimestre correspondiente.\n",
      "1: Las empresas con facturación superior a 6 millones deben realizar su declaración mensual el último día hábil del mes posterior a la liquidación, mientras que los autónomos lo hacen trimestralmente, presentándola antes del día 20 del mes siguiente al trimestre.\n",
      "2: Las empresas que superan los 6 millones de euros en facturación deben presentar el IVA de manera mensual, el último día hábil del mes siguiente al periodo liquidado, mientras que los autónomos lo presentan trimestralmente, con fecha límite el día 20 del mes posterior al trimestre correspondiente.\n",
      "3: En empresas con facturación mayor a 6 millones deben realizar su declaración mensual el último día hábil del mes posterior a la liquidación, mientras que los autónomos lo hacen trimestralmente, presentándola antes del día 20 del mes siguiente al trimestre.\n",
      "4: Para empresas con facturación mayor a 6 millones deben realizar su declaración mensual el último día hábil del mes posterior a la liquidación, mientras que los autónomos lo hacen trimestralmente, presentándola antes del día 20 del mes siguiente al trimestre.\n",
      "5: Las empresas que superan los 6 millones de euros en facturación deben presentar el IVA de manera mensual, el último día hábil del mes siguiente al periodo liquidado, mientras que los autónomos la presentan de forma trimestral, hasta el día 20 del mes posterior al trimestre correspondiente.\n"
     ]
    },
    {
     "data": {
      "application/vnd.google.colaboratory.intrinsic+json": {
       "type": "string"
      },
      "text/plain": [
       "''"
      ]
     },
     "execution_count": 26,
     "metadata": {},
     "output_type": "execute_result"
    }
   ],
   "source": [
    "generar_respuesta(\"cuand hay que presentar el modelo 303?\")"
   ]
  },
  {
   "cell_type": "code",
   "execution_count": null,
   "metadata": {
    "colab": {
     "base_uri": "https://localhost:8080/",
     "height": 570
    },
    "id": "Z0VH_NM-C39U",
    "outputId": "f473ec27-0406-4392-f6fc-04aa79b12480"
   },
   "outputs": [
    {
     "name": "stdout",
     "output_type": "stream",
     "text": [
      "Logits: tensor([[ 0.5442,  1.1172, -0.5343, -0.0396,  0.1759, -0.7209, -1.0805,  1.5627,\n",
      "         -0.6821, -0.7227, -0.2148,  0.2055]], device='cuda:0')\n",
      "Probabilidades: tensor([[0.1067, 0.1893, 0.0363, 0.0595, 0.0739, 0.0301, 0.0210, 0.2956, 0.0313,\n",
      "         0.0301, 0.0500, 0.0761]], device='cuda:0')\n",
      "Logits: tensor([[ 0.5442,  1.1172, -0.5343, -0.0396,  0.1759, -0.7209, -1.0805,  1.5627,\n",
      "         -0.6821, -0.7227, -0.2148,  0.2055]], device='cuda:0')\n",
      "Probabilidades: tensor([[0.1067, 0.1893, 0.0363, 0.0595, 0.0739, 0.0301, 0.0210, 0.2956, 0.0313,\n",
      "         0.0301, 0.0500, 0.0761]], device='cuda:0')\n",
      "longitud input:{'input_ids': tensor([[ 19730,    268,    267,    642,   3525,   5967,    303,    269,  67606,\n",
      "          32985,    283,  25671,    931,    426,   9010,    289,    362,   2585,\n",
      "          33469,    269,  63756,  31037,    261,  72229,    299,    259,    276,\n",
      "            788,    687,  71724,  28895,    346,    362,  13734,    259, 157480,\n",
      "          16140, 143631,    265,    303,    269,  67606,  32985,    283,  22041,\n",
      "           1434,    426,    259,  34418,  28895,    346,    362,  13734,  75744,\n",
      "            261,  53121,    473,    259,    268,   9665,  75339,    303,   9229,\n",
      "            362,   2117,    261,    259,    276,    440,  62082,    372,    362,\n",
      "            259,    265,  51194,    261,    362,  13734,  58334,    269,  70418,\n",
      "           1979,    259,  54165,    260,  22056,    267,    259,   6727,    655,\n",
      "            362,  53121,    265,    269,  22041,  24118,      1]]), 'attention_mask': tensor([[1, 1, 1, 1, 1, 1, 1, 1, 1, 1, 1, 1, 1, 1, 1, 1, 1, 1, 1, 1, 1, 1, 1, 1,\n",
      "         1, 1, 1, 1, 1, 1, 1, 1, 1, 1, 1, 1, 1, 1, 1, 1, 1, 1, 1, 1, 1, 1, 1, 1,\n",
      "         1, 1, 1, 1, 1, 1, 1, 1, 1, 1, 1, 1, 1, 1, 1, 1, 1, 1, 1, 1, 1, 1, 1, 1,\n",
      "         1, 1, 1, 1, 1, 1, 1, 1, 1, 1, 1, 1, 1, 1, 1, 1, 1, 1, 1, 1, 1, 1, 1, 1,\n",
      "         1]])}\n",
      "longitud codec:79\n",
      "0: Las empresas con ingresos superiores a 6 millones de euros presentan la declaración del IVA de forma mensual, el último día hábil del mes posterior al periodo de liquidación, mientras que los autónomos lo hacen trimestralmente, con plazo hasta el día 50 %, entre otras cosas.\n",
      "1: Las empresas con ingresos superiores a 6 millones de euros presentan la declaración del IVA de forma mensual, el último día hábil del mes posterior al periodo de liquidación, mientras que los autónomos lo hacen trimestralmente, con plazo hasta el día 20 del año, presentar el modelo 303.\n",
      "2: Las empresas con ingresos superiores a 6 millones de euros presentan la declaración del IVA de forma mensual, el último día hábil del mes posterior al periodo de liquidación, mientras que los autónomos lo hacen trimestralmente, con plazo hasta el día 20 del año, presentar el modelo 390 como resumen anual.\n",
      "3: Las empresas con ingresos superiores a 6 millones de euros presentan la declaración del IVA de forma mensual, el último día hábil del mes posterior al periodo de liquidación, mientras que los autónomos lo hacen trimestralmente, con plazo hasta el día 20 del año, correspondiente.\n",
      "4: Las empresas con ingresos superiores a 6 millones de euros presentan la declaración del IVA de forma mensual, el último día hábil del mes posterior al periodo de liquidación, mientras que los autónomos lo hacen trimestralmente, con plazo hasta el día 50 %, ya sea trimestral trimestre correspondiente.\n"
     ]
    },
    {
     "data": {
      "application/vnd.google.colaboratory.intrinsic+json": {
       "type": "string"
      },
      "text/plain": [
       "''"
      ]
     },
     "execution_count": 15,
     "metadata": {},
     "output_type": "execute_result"
    }
   ],
   "source": [
    "generar_respuesta(\"cual es el trimestre de liquidacion\")"
   ]
  },
  {
   "cell_type": "code",
   "execution_count": null,
   "metadata": {
    "colab": {
     "base_uri": "https://localhost:8080/",
     "height": 452
    },
    "id": "TF4-tnpu0xig",
    "outputId": "7c87a732-8a5b-40bc-f8a3-92980e99be7d"
   },
   "outputs": [
    {
     "name": "stdout",
     "output_type": "stream",
     "text": [
      "Logits: tensor([[-1.3157, -0.8105, -0.7924,  0.2020,  0.5107,  0.6433,  0.4778, -0.4720,\n",
      "          0.9244,  0.4416, -0.4726,  0.6665]], device='cuda:0')\n",
      "Probabilidades: tensor([[0.0181, 0.0300, 0.0305, 0.0825, 0.1123, 0.1282, 0.1086, 0.0420, 0.1698,\n",
      "         0.1048, 0.0420, 0.1312]], device='cuda:0')\n",
      "No comprendo la pregunta. Por favor ¿Puede volver a repetirla?\n"
     ]
    },
    {
     "ename": "ValueError",
     "evalue": "invalid literal for int() with base 10: 'N'",
     "output_type": "error",
     "traceback": [
      "\u001b[0;31m---------------------------------------------------------------------------\u001b[0m",
      "\u001b[0;31mValueError\u001b[0m                                Traceback (most recent call last)",
      "\u001b[0;32m<ipython-input-16-f2f6983d68f6>\u001b[0m in \u001b[0;36m<cell line: 0>\u001b[0;34m()\u001b[0m\n\u001b[1;32m      1\u001b[0m \u001b[0mvar_debug\u001b[0m \u001b[0;34m=\u001b[0m \u001b[0mgenerar_respuesta\u001b[0m\u001b[0;34m(\u001b[0m\u001b[0;34m\"¿puedo darme de alta en el regimen del recargo de equivalencia si tengo una tienda de artículos deportivos?\"\u001b[0m\u001b[0;34m)\u001b[0m\u001b[0;34m\u001b[0m\u001b[0;34m\u001b[0m\u001b[0m\n\u001b[1;32m      2\u001b[0m \u001b[0mprint\u001b[0m\u001b[0;34m(\u001b[0m\u001b[0mvar_debug\u001b[0m\u001b[0;34m)\u001b[0m\u001b[0;34m\u001b[0m\u001b[0;34m\u001b[0m\u001b[0m\n\u001b[0;32m----> 3\u001b[0;31m \u001b[0mtens_decod\u001b[0m\u001b[0;34m=\u001b[0m \u001b[0mtokenizer_generativo\u001b[0m\u001b[0;34m.\u001b[0m\u001b[0mdecode\u001b[0m\u001b[0;34m(\u001b[0m\u001b[0mvar_debug\u001b[0m\u001b[0;34m)\u001b[0m\u001b[0;34m\u001b[0m\u001b[0;34m\u001b[0m\u001b[0m\n\u001b[0m",
      "\u001b[0;32m/usr/local/lib/python3.11/dist-packages/transformers/tokenization_utils_base.py\u001b[0m in \u001b[0;36mdecode\u001b[0;34m(self, token_ids, skip_special_tokens, clean_up_tokenization_spaces, **kwargs)\u001b[0m\n\u001b[1;32m   3849\u001b[0m         \u001b[0mtoken_ids\u001b[0m \u001b[0;34m=\u001b[0m \u001b[0mto_py_obj\u001b[0m\u001b[0;34m(\u001b[0m\u001b[0mtoken_ids\u001b[0m\u001b[0;34m)\u001b[0m\u001b[0;34m\u001b[0m\u001b[0;34m\u001b[0m\u001b[0m\n\u001b[1;32m   3850\u001b[0m \u001b[0;34m\u001b[0m\u001b[0m\n\u001b[0;32m-> 3851\u001b[0;31m         return self._decode(\n\u001b[0m\u001b[1;32m   3852\u001b[0m             \u001b[0mtoken_ids\u001b[0m\u001b[0;34m=\u001b[0m\u001b[0mtoken_ids\u001b[0m\u001b[0;34m,\u001b[0m\u001b[0;34m\u001b[0m\u001b[0;34m\u001b[0m\u001b[0m\n\u001b[1;32m   3853\u001b[0m             \u001b[0mskip_special_tokens\u001b[0m\u001b[0;34m=\u001b[0m\u001b[0mskip_special_tokens\u001b[0m\u001b[0;34m,\u001b[0m\u001b[0;34m\u001b[0m\u001b[0;34m\u001b[0m\u001b[0m\n",
      "\u001b[0;32m/usr/local/lib/python3.11/dist-packages/transformers/tokenization_utils.py\u001b[0m in \u001b[0;36m_decode\u001b[0;34m(self, token_ids, skip_special_tokens, clean_up_tokenization_spaces, spaces_between_special_tokens, **kwargs)\u001b[0m\n\u001b[1;32m   1089\u001b[0m         \u001b[0mself\u001b[0m\u001b[0;34m.\u001b[0m\u001b[0m_decode_use_source_tokenizer\u001b[0m \u001b[0;34m=\u001b[0m \u001b[0mkwargs\u001b[0m\u001b[0;34m.\u001b[0m\u001b[0mpop\u001b[0m\u001b[0;34m(\u001b[0m\u001b[0;34m\"use_source_tokenizer\"\u001b[0m\u001b[0;34m,\u001b[0m \u001b[0;32mFalse\u001b[0m\u001b[0;34m)\u001b[0m\u001b[0;34m\u001b[0m\u001b[0;34m\u001b[0m\u001b[0m\n\u001b[1;32m   1090\u001b[0m \u001b[0;34m\u001b[0m\u001b[0m\n\u001b[0;32m-> 1091\u001b[0;31m         \u001b[0mfiltered_tokens\u001b[0m \u001b[0;34m=\u001b[0m \u001b[0mself\u001b[0m\u001b[0;34m.\u001b[0m\u001b[0mconvert_ids_to_tokens\u001b[0m\u001b[0;34m(\u001b[0m\u001b[0mtoken_ids\u001b[0m\u001b[0;34m,\u001b[0m \u001b[0mskip_special_tokens\u001b[0m\u001b[0;34m=\u001b[0m\u001b[0mskip_special_tokens\u001b[0m\u001b[0;34m)\u001b[0m\u001b[0;34m\u001b[0m\u001b[0;34m\u001b[0m\u001b[0m\n\u001b[0m\u001b[1;32m   1092\u001b[0m         \u001b[0;31m# If given is a single id, prevents splitting the string in upcoming loop\u001b[0m\u001b[0;34m\u001b[0m\u001b[0;34m\u001b[0m\u001b[0m\n\u001b[1;32m   1093\u001b[0m         \u001b[0;32mif\u001b[0m \u001b[0misinstance\u001b[0m\u001b[0;34m(\u001b[0m\u001b[0mfiltered_tokens\u001b[0m\u001b[0;34m,\u001b[0m \u001b[0mstr\u001b[0m\u001b[0;34m)\u001b[0m\u001b[0;34m:\u001b[0m\u001b[0;34m\u001b[0m\u001b[0;34m\u001b[0m\u001b[0m\n",
      "\u001b[0;32m/usr/local/lib/python3.11/dist-packages/transformers/tokenization_utils.py\u001b[0m in \u001b[0;36mconvert_ids_to_tokens\u001b[0;34m(self, ids, skip_special_tokens)\u001b[0m\n\u001b[1;32m   1064\u001b[0m         \u001b[0mtokens\u001b[0m \u001b[0;34m=\u001b[0m \u001b[0;34m[\u001b[0m\u001b[0;34m]\u001b[0m\u001b[0;34m\u001b[0m\u001b[0;34m\u001b[0m\u001b[0m\n\u001b[1;32m   1065\u001b[0m         \u001b[0;32mfor\u001b[0m \u001b[0mindex\u001b[0m \u001b[0;32min\u001b[0m \u001b[0mids\u001b[0m\u001b[0;34m:\u001b[0m\u001b[0;34m\u001b[0m\u001b[0;34m\u001b[0m\u001b[0m\n\u001b[0;32m-> 1066\u001b[0;31m             \u001b[0mindex\u001b[0m \u001b[0;34m=\u001b[0m \u001b[0mint\u001b[0m\u001b[0;34m(\u001b[0m\u001b[0mindex\u001b[0m\u001b[0;34m)\u001b[0m\u001b[0;34m\u001b[0m\u001b[0;34m\u001b[0m\u001b[0m\n\u001b[0m\u001b[1;32m   1067\u001b[0m             \u001b[0;32mif\u001b[0m \u001b[0mskip_special_tokens\u001b[0m \u001b[0;32mand\u001b[0m \u001b[0mindex\u001b[0m \u001b[0;32min\u001b[0m \u001b[0mself\u001b[0m\u001b[0;34m.\u001b[0m\u001b[0mall_special_ids\u001b[0m\u001b[0;34m:\u001b[0m\u001b[0;34m\u001b[0m\u001b[0;34m\u001b[0m\u001b[0m\n\u001b[1;32m   1068\u001b[0m                 \u001b[0;32mcontinue\u001b[0m\u001b[0;34m\u001b[0m\u001b[0;34m\u001b[0m\u001b[0m\n",
      "\u001b[0;31mValueError\u001b[0m: invalid literal for int() with base 10: 'N'"
     ]
    }
   ],
   "source": [
    "var_debug = generar_respuesta(\"¿puedo darme de alta en el regimen del recargo de equivalencia si tengo una tienda de artículos deportivos?\")\n",
    "print(var_debug)\n",
    "tens_decod= tokenizer_generativo.decode(var_debug)"
   ]
  },
  {
   "cell_type": "code",
   "execution_count": null,
   "metadata": {
    "id": "POqfnBJPExCI"
   },
   "outputs": [],
   "source": [
    "tokenizer_generativo.decode(var_debug[0])"
   ]
  },
  {
   "cell_type": "code",
   "execution_count": null,
   "metadata": {
    "id": "rGvJElXG2vL_"
   },
   "outputs": [],
   "source": [
    "generar_respuesta(\"¿Puedo deducirme la compra de un ordenador portatil para uso personal\")"
   ]
  },
  {
   "cell_type": "code",
   "execution_count": null,
   "metadata": {
    "id": "ZOKT9T-RJgBt"
   },
   "outputs": [],
   "source": [
    "print(clasificador_pregunta(\"donde debo declarar las patatas que compro al extranjero\"))"
   ]
  },
  {
   "cell_type": "code",
   "execution_count": null,
   "metadata": {
    "id": "WXdAsxV2pQNv"
   },
   "outputs": [],
   "source": [
    "generar_respuesta(\"si tengo un concesionario de coches puedo darme de alta en el regimen del recargo de equivalencia\")"
   ]
  }
 ],
 "metadata": {
  "accelerator": "GPU",
  "colab": {
   "gpuType": "T4",
   "provenance": []
  },
  "kernelspec": {
   "display_name": "Python 3 (ipykernel)",
   "language": "python",
   "name": "python3"
  },
  "language_info": {
   "codemirror_mode": {
    "name": "ipython",
    "version": 3
   },
   "file_extension": ".py",
   "mimetype": "text/x-python",
   "name": "python",
   "nbconvert_exporter": "python",
   "pygments_lexer": "ipython3",
   "version": "3.12.4"
  }
 },
 "nbformat": 4,
 "nbformat_minor": 4
}
